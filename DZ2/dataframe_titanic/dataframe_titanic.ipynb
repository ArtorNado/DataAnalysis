{
 "cells": [
  {
   "cell_type": "code",
   "execution_count": 1,
   "metadata": {},
   "outputs": [],
   "source": [
    "import pandas as pd\n",
    "na_values = ['NO CLUE', 'N/A', '0']\n",
    "data = pd.read_csv('C:/Users/One/Downloads/Dataset/dataframe_titanic/titanic.csv', na_values=na_values, delimiter=',')"
   ]
  },
  {
   "cell_type": "code",
   "execution_count": 2,
   "metadata": {},
   "outputs": [
    {
     "name": "stdout",
     "output_type": "stream",
     "text": [
      "1.0    342\n",
      "Name: Survived, dtype: int64\n",
      "3    487\n",
      "1    216\n",
      "2    184\n",
      "Name: Pclass, dtype: int64\n",
      "Mr. Kanio Ivanoff                                      1\n",
      "Mr. Gustaf Joel Johansson                              1\n",
      "Mrs. James (Helene DeLaudeniere Chaput) Baxter         1\n",
      "Mr. Pekka Pietari Hakkarainen                          1\n",
      "Mr. Johan Ekstrom                                      1\n",
      "                                                      ..\n",
      "Miss. Clear Annie Cameron                              1\n",
      "Mr. August Edvard Andersson                            1\n",
      "Mr. Emil Christmann                                    1\n",
      "Mr. Charles Hallace Romaine                            1\n",
      "Mrs. Pekka Pietari (Elin Matilda Dolck) Hakkarainen    1\n",
      "Name: Name, Length: 887, dtype: int64\n",
      "male      573\n",
      "female    314\n",
      "Name: Sex, dtype: int64\n",
      "22.00    39\n",
      "28.00    37\n",
      "18.00    36\n",
      "21.00    34\n",
      "24.00    34\n",
      "         ..\n",
      "70.50     1\n",
      "36.50     1\n",
      "23.50     1\n",
      "55.50     1\n",
      "0.42      1\n",
      "Name: Age, Length: 89, dtype: int64\n",
      "1.0    209\n",
      "2.0     28\n",
      "4.0     18\n",
      "3.0     16\n",
      "8.0      7\n",
      "5.0      5\n",
      "Name: Siblings/Spouses Aboard, dtype: int64\n",
      "1.0    118\n",
      "2.0     80\n",
      "3.0      5\n",
      "5.0      5\n",
      "4.0      4\n",
      "6.0      1\n",
      "Name: Parents/Children Aboard, dtype: int64\n",
      "8.0500     43\n",
      "13.0000    42\n",
      "7.8958     36\n",
      "7.7500     33\n",
      "26.0000    31\n",
      "           ..\n",
      "32.3208     1\n",
      "13.8583     1\n",
      "7.6292      1\n",
      "15.0500     1\n",
      "8.6833      1\n",
      "Name: Fare, Length: 247, dtype: int64\n"
     ]
    }
   ],
   "source": [
    "columList = data.columns.tolist()\n",
    "for val in columList:\n",
    "    print(data[val].value_counts())"
   ]
  },
  {
   "cell_type": "code",
   "execution_count": null,
   "metadata": {},
   "outputs": [],
   "source": []
  }
 ],
 "metadata": {
  "kernelspec": {
   "display_name": "Python 3",
   "language": "python",
   "name": "python3"
  },
  "language_info": {
   "codemirror_mode": {
    "name": "ipython",
    "version": 3
   },
   "file_extension": ".py",
   "mimetype": "text/x-python",
   "name": "python",
   "nbconvert_exporter": "python",
   "pygments_lexer": "ipython3",
   "version": "3.7.4"
  }
 },
 "nbformat": 4,
 "nbformat_minor": 2
}
