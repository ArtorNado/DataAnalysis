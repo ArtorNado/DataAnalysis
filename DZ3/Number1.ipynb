{
 "cells": [
  {
   "cell_type": "code",
   "execution_count": 239,
   "metadata": {},
   "outputs": [],
   "source": [
    "# №1 Пункт 1\n",
    "# №1 Пункт 1\n",
    "# №1 Пункт 1\n",
    "import numpy as np\n",
    "import pandas as pd\n",
    "import pylab as pl\n",
    "import matplotlib.pyplot as plt\n",
    "plt.style.use('ggplot')\n",
    "%matplotlib inline\n",
    "import seaborn as sns\n",
    "from sklearn.model_selection import train_test_split\n",
    "from sklearn.tree import DecisionTreeClassifier"
   ]
  },
  {
   "cell_type": "code",
   "execution_count": 240,
   "metadata": {},
   "outputs": [
    {
     "name": "stdout",
     "output_type": "stream",
     "text": [
      "(22223, 13)\n",
      "<class 'pandas.core.frame.DataFrame'>\n",
      "RangeIndex: 22223 entries, 0 to 22222\n",
      "Data columns (total 13 columns):\n",
      "ID                 22223 non-null int64\n",
      "DemAffl            22223 non-null float64\n",
      "DemAge             22223 non-null float64\n",
      "DemCluster         22223 non-null float64\n",
      "DemClusterGroup    22223 non-null object\n",
      "DemGender          22223 non-null object\n",
      "DemReg             22223 non-null object\n",
      "DemTVReg           22223 non-null object\n",
      "PromClass          22223 non-null object\n",
      "PromSpend          22223 non-null float64\n",
      "PromTime           22223 non-null float64\n",
      "TargetBuy          22223 non-null float64\n",
      "TargetAmt          22223 non-null float64\n",
      "dtypes: float64(7), int64(1), object(5)\n",
      "memory usage: 2.2+ MB\n",
      "None\n"
     ]
    }
   ],
   "source": [
    "na_values = ['NO CLUE', 'N/A', '0', 'non-null', 'NaN']\n",
    "df=pd.read_csv('C:/Users/One/Downloads/Dataset/dataframe_ORGANICS/ORGANICS.csv',encoding=\"cp1251\", na_values=na_values)\n",
    "df = df.fillna(0)\n",
    "print(df.shape) \n",
    "print(df.info())\n",
    "x=df[['DemAffl',  'DemAge', 'DemCluster', 'PromSpend', 'PromTime']]\n",
    "y=df.values[::,11]\n",
    "y=y.astype('int')"
   ]
  },
  {
   "cell_type": "code",
   "execution_count": 249,
   "metadata": {},
   "outputs": [
    {
     "data": {
      "text/plain": [
       "DecisionTreeClassifier(class_weight=None, criterion='entropy', max_depth=1,\n",
       "                       max_features=None, max_leaf_nodes=None,\n",
       "                       min_impurity_decrease=0.0, min_impurity_split=None,\n",
       "                       min_samples_leaf=10000, min_samples_split=2,\n",
       "                       min_weight_fraction_leaf=0.0, presort=False,\n",
       "                       random_state=None, splitter='best')"
      ]
     },
     "execution_count": 249,
     "metadata": {},
     "output_type": "execute_result"
    }
   ],
   "source": [
    "X_train, X_test, y_train, y_test = train_test_split(x, y, test_size=0.3)\n",
    "tree=DecisionTreeClassifier(criterion='entropy',max_depth=1, min_samples_leaf = 10000)\n",
    "tree.fit(X_train, y_train)"
   ]
  },
  {
   "cell_type": "code",
   "execution_count": 250,
   "metadata": {},
   "outputs": [
    {
     "name": "stdout",
     "output_type": "stream",
     "text": [
      "0.7564283877603497\n",
      "0.7426128693565321\n"
     ]
    }
   ],
   "source": [
    "print(tree.score(X_train, y_train)) \n",
    "print(tree.score(X_test, y_test)) "
   ]
  },
  {
   "cell_type": "code",
   "execution_count": 220,
   "metadata": {},
   "outputs": [],
   "source": [
    "from sklearn.tree import export_graphviz\n",
    "import subprocess\n",
    "export_graphviz(tree, out_file='C:/Users/One/Downloads/Dataset/dataframe_ORGANICS/Organics_tree.dot', \n",
    "               rounded = True, proportion = False, \n",
    "                precision = 2, filled = True)\n",
    "import pydot \n",
    "(graph, ) = pydot.graph_from_dot_file('C:/Users/One/Downloads/Dataset/dataframe_ORGANICS/Organics_tree.dot')\n",
    "graph.write_png('C:/Users/One/Downloads/Dataset/dataframe_ORGANICS/Organics_tree.dot')\n"
   ]
  },
  {
   "cell_type": "code",
   "execution_count": null,
   "metadata": {},
   "outputs": [],
   "source": [
    "# №1 Пункт 2\n",
    "# №1 Пункт 2\n",
    "# №1 Пункт 2\n",
    "# В txt файле"
   ]
  },
  {
   "cell_type": "code",
   "execution_count": 201,
   "metadata": {},
   "outputs": [
    {
     "name": "stdout",
     "output_type": "stream",
     "text": [
      "0        3\n",
      "1        3\n",
      "2        0\n",
      "3        1\n",
      "4        0\n",
      "        ..\n",
      "22218    0\n",
      "22219    3\n",
      "22220    0\n",
      "22221    0\n",
      "22222    2\n",
      "Name: DemGender_LE, Length: 22223, dtype: int32\n"
     ]
    }
   ],
   "source": [
    "# №1 Пункт 3\n",
    "# №1 Пункт 3\n",
    "# №1 Пункт 3\n",
    "from sklearn.preprocessing import LabelEncoder\n",
    "le = LabelEncoder()\n",
    "df['DemGender'] = df['DemGender'].replace(0, 'U')\n",
    "le.fit(df['DemGender'])\n",
    "df['DemGender_LE'] = le.transform(df['DemGender'].astype(str))\n",
    "print(df['DemGender_LE']) "
   ]
  },
  {
   "cell_type": "code",
   "execution_count": 210,
   "metadata": {},
   "outputs": [
    {
     "name": "stdout",
     "output_type": "stream",
     "text": [
      "0        2\n",
      "1        3\n",
      "2        3\n",
      "3        5\n",
      "4        0\n",
      "        ..\n",
      "22218    1\n",
      "22219    3\n",
      "22220    1\n",
      "22221    1\n",
      "22222    5\n",
      "Name: DemClusterGroup_LE, Length: 22223, dtype: int32\n"
     ]
    }
   ],
   "source": [
    "from sklearn.preprocessing import LabelEncoder\n",
    "le = LabelEncoder()\n",
    "df['DemClusterGroup'] = df['DemClusterGroup'].replace(0, 'U')\n",
    "le.fit(df['DemClusterGroup'])\n",
    "df['DemClusterGroup_LE'] = le.transform(df['DemClusterGroup'].astype(str))\n",
    "print(df['DemClusterGroup_LE']) "
   ]
  },
  {
   "cell_type": "code",
   "execution_count": 211,
   "metadata": {},
   "outputs": [
    {
     "name": "stdout",
     "output_type": "stream",
     "text": [
      "0        0\n",
      "1        0\n",
      "2        0\n",
      "3        0\n",
      "4        0\n",
      "        ..\n",
      "22218    3\n",
      "22219    3\n",
      "22220    1\n",
      "22221    1\n",
      "22222    4\n",
      "Name: DemReg_LE, Length: 22223, dtype: int32\n"
     ]
    }
   ],
   "source": [
    "from sklearn.preprocessing import LabelEncoder\n",
    "le = LabelEncoder()\n",
    "df['DemReg'] = df['DemReg'].replace(0, 'Unknown')\n",
    "le.fit(df['DemReg'])\n",
    "df['DemReg_LE'] = le.transform(df['DemReg'])\n",
    "print(df['DemReg_LE']) "
   ]
  },
  {
   "cell_type": "code",
   "execution_count": 213,
   "metadata": {},
   "outputs": [
    {
     "name": "stdout",
     "output_type": "stream",
     "text": [
      "0        12\n",
      "1        12\n",
      "2        12\n",
      "3         4\n",
      "4         4\n",
      "         ..\n",
      "22218     3\n",
      "22219     8\n",
      "22220    13\n",
      "22221     7\n",
      "22222     9\n",
      "Name: DemTVReg_LE, Length: 22223, dtype: int32\n"
     ]
    }
   ],
   "source": [
    "from sklearn.preprocessing import LabelEncoder\n",
    "le = LabelEncoder()\n",
    "df['DemTVReg'] = df['DemTVReg'].replace(0, 'Unknown')\n",
    "le.fit(df['DemTVReg'])\n",
    "df['DemTVReg_LE'] = le.transform(df['DemTVReg'])\n",
    "print(df['DemTVReg_LE']) "
   ]
  },
  {
   "cell_type": "code",
   "execution_count": 215,
   "metadata": {},
   "outputs": [
    {
     "name": "stdout",
     "output_type": "stream",
     "text": [
      "0        0\n",
      "1        0\n",
      "2        2\n",
      "3        3\n",
      "4        3\n",
      "        ..\n",
      "22218    2\n",
      "22219    0\n",
      "22220    0\n",
      "22221    2\n",
      "22222    0\n",
      "Name: PromClass_LE, Length: 22223, dtype: int32\n"
     ]
    }
   ],
   "source": [
    "from sklearn.preprocessing import LabelEncoder\n",
    "le = LabelEncoder()\n",
    "le.fit(df['PromClass'])\n",
    "df['PromClass_LE'] = le.transform(df['PromClass'])\n",
    "print(df['PromClass_LE']) "
   ]
  },
  {
   "cell_type": "code",
   "execution_count": 217,
   "metadata": {},
   "outputs": [
    {
     "name": "stdout",
     "output_type": "stream",
     "text": [
      "0        0\n",
      "1        0\n",
      "2        1\n",
      "3        1\n",
      "4        0\n",
      "        ..\n",
      "22218    0\n",
      "22219    0\n",
      "22220    0\n",
      "22221    0\n",
      "22222    0\n",
      "Name: TargetBuy_LE, Length: 22223, dtype: int64\n"
     ]
    }
   ],
   "source": [
    "from sklearn.preprocessing import LabelEncoder\n",
    "le = LabelEncoder()\n",
    "le.fit(df['TargetBuy'])\n",
    "df['TargetBuy_LE'] = le.transform(df['TargetBuy'])\n",
    "print(df['TargetBuy_LE']) "
   ]
  },
  {
   "cell_type": "code",
   "execution_count": null,
   "metadata": {},
   "outputs": [],
   "source": [
    "# Этод метод cильно упрощает данные, фактически проецируя категориальный признак на вещественную прямую. \n",
    "# Весь смысл категориальности теряется. Более того, появляются ложные интерпретации."
   ]
  }
 ],
 "metadata": {
  "kernelspec": {
   "display_name": "Python 3",
   "language": "python",
   "name": "python3"
  },
  "language_info": {
   "codemirror_mode": {
    "name": "ipython",
    "version": 3
   },
   "file_extension": ".py",
   "mimetype": "text/x-python",
   "name": "python",
   "nbconvert_exporter": "python",
   "pygments_lexer": "ipython3",
   "version": "3.7.4"
  }
 },
 "nbformat": 4,
 "nbformat_minor": 2
}
